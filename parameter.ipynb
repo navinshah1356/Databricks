{
 "cells": [
  {
   "cell_type": "code",
   "execution_count": 0,
   "metadata": {
    "application/vnd.databricks.v1+cell": {
     "cellMetadata": {
      "byteLimit": 2048000,
      "rowLimit": 10000
     },
     "inputWidgets": {},
     "nuid": "b672c900-dae2-4004-a817-f3491f1494c9",
     "showTitle": false,
     "tableResultSettingsMap": {},
     "title": ""
    }
   },
   "outputs": [
    {
     "output_type": "stream",
     "name": "stdout",
     "output_type": "stream",
     "text": [
      "Simulating workflow run for: sales_city, date: 2025-07-04\n"
     ]
    }
   ],
   "source": [
    "dbutils.widgets.text(\"table_name\", \"default_table\", \"Table Name\")\n",
    "dbutils.widgets.text(\"run_date\", \"2025-07-04\", \"Run Date\")\n",
    "\n",
    "table = dbutils.widgets.get(\"table_name\")\n",
    "date = dbutils.widgets.get(\"run_date\")\n",
    "\n",
    "\n",
    "print(f\"Simulating workflow run for: {table}, date: {date}\")"
   ]
  },
  {
   "cell_type": "code",
   "execution_count": 0,
   "metadata": {
    "application/vnd.databricks.v1+cell": {
     "cellMetadata": {
      "byteLimit": 2048000,
      "rowLimit": 10000
     },
     "inputWidgets": {},
     "nuid": "e697048c-df8d-40e5-a11c-8becfa51e741",
     "showTitle": false,
     "tableResultSettingsMap": {},
     "title": ""
    }
   },
   "outputs": [
    {
     "output_type": "stream",
     "name": "stdout",
     "output_type": "stream",
     "text": [
      "❌ Table 'sales_city' not found in Hive warehouse.\n"
     ]
    }
   ],
   "source": [
    "dbutils.widgets.text(\"table_name\", \"sales_city\", \"Table Name\")\n",
    "\n",
    "tables = dbutils.fs.ls(\"dbfs:/user/hive/warehouse/\")\n",
    "\n",
    "input_table  = dbutils.widgets.get(\"table_name\")\n",
    "exists = False\n",
    "for t in tables:\n",
    "    table_name = t.name\n",
    "    if input_table == table_name:\n",
    "     print(f\"✅ Table found: {t.name}\")\n",
    "     exists = True\n",
    "     break\n",
    "\n",
    "if not exists:\n",
    "    print(f\"❌ Table '{input_table}' not found in Hive warehouse.\")"
   ]
  },
  {
   "cell_type": "code",
   "execution_count": 0,
   "metadata": {
    "application/vnd.databricks.v1+cell": {
     "cellMetadata": {
      "byteLimit": 2048000,
      "rowLimit": 10000
     },
     "inputWidgets": {},
     "nuid": "bf29600f-54fe-492b-a12b-c916b212144b",
     "showTitle": false,
     "tableResultSettingsMap": {},
     "title": ""
    }
   },
   "outputs": [
    {
     "output_type": "stream",
     "name": "stdout",
     "output_type": "stream",
     "text": [
      "FileInfo(path='dbfs:/user/hive/warehouse/cntry_cnt/', name='cntry_cnt/', size=0, modificationTime=0)\nFileInfo(path='dbfs:/user/hive/warehouse/sales_city/', name='sales_city/', size=0, modificationTime=0)\nFileInfo(path='dbfs:/user/hive/warehouse/sales_country/', name='sales_country/', size=0, modificationTime=0)\nFileInfo(path='dbfs:/user/hive/warehouse/sampledata/', name='sampledata/', size=0, modificationTime=0)\nFileInfo(path='dbfs:/user/hive/warehouse/tbl_sa/', name='tbl_sa/', size=0, modificationTime=0)\nFileInfo(path='dbfs:/user/hive/warehouse/tbl_sal/', name='tbl_sal/', size=0, modificationTime=0)\nFileInfo(path='dbfs:/user/hive/warehouse/tbl_sal_2/', name='tbl_sal_2/', size=0, modificationTime=0)\nFileInfo(path='dbfs:/user/hive/warehouse/tblcountrysales/', name='tblcountrysales/', size=0, modificationTime=0)\n"
     ]
    }
   ],
   "source": [
    "tables = dbutils.fs.ls(\"dbfs:/user/hive/warehouse/\")\n",
    "\n",
    "for table in tables:\n",
    "    print(table)"
   ]
  }
 ],
 "metadata": {
  "application/vnd.databricks.v1+notebook": {
   "computePreferences": null,
   "dashboards": [],
   "environmentMetadata": {
    "base_environment": "",
    "environment_version": "1"
   },
   "inputWidgetPreferences": null,
   "language": "python",
   "notebookMetadata": {
    "pythonIndentUnit": 4
   },
   "notebookName": "parameter",
   "widgets": {}
  }
 },
 "nbformat": 4,
 "nbformat_minor": 0
}