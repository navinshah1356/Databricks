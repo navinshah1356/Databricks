{
 "cells": [
  {
   "cell_type": "code",
   "execution_count": 0,
   "metadata": {
    "application/vnd.databricks.v1+cell": {
     "cellMetadata": {
      "byteLimit": 2048000,
      "rowLimit": 10000
     },
     "inputWidgets": {},
     "nuid": "64d9ba35-66d2-45c1-bc74-6ad1dd5728aa",
     "showTitle": false,
     "tableResultSettingsMap": {},
     "title": ""
    }
   },
   "outputs": [],
   "source": [
    "\n",
    "from pyspark.sql import SparkSession\n",
    "from pyspark.sql.types import StructType, StructField, IntegerType, StringType\n",
    "from pyspark.sql.functions import col\n",
    "\n",
    "dt_1 = [\n",
    "\n",
    "        (1,\"hari\",45,120000),\n",
    "        (2,\"ram\",35,125000),\n",
    "        (3,\"shyam\",25,130000),\n",
    "        (4,\"sita\",30,135000),\n",
    "        (5,\"radha\",20,140000)\n",
    "    \n",
    "]\n",
    "\n",
    "schema = StructType([\n",
    "    StructField(\"id\", IntegerType(), True),\n",
    "    StructField(\"name\", StringType(), True),\n",
    "    StructField(\"age\", IntegerType(), True),\n",
    "    StructField(\"salary\", IntegerType(), True)  \n",
    "    ])\n",
    "bl = spark.createDataFrame(dt_1, schema)\n",
    "bl.write.mode(\"overwrite\").saveAsTable(\"tbl_sal\")\n"
   ]
  },
  {
   "cell_type": "code",
   "execution_count": 0,
   "metadata": {
    "application/vnd.databricks.v1+cell": {
     "cellMetadata": {
      "byteLimit": 2048000,
      "rowLimit": 10000
     },
     "inputWidgets": {},
     "nuid": "b22737d4-d029-450f-8309-894887798c74",
     "showTitle": false,
     "tableResultSettingsMap": {},
     "title": ""
    }
   },
   "outputs": [],
   "source": [
    "from pyspark.sql import SparkSession\n",
    "from pyspark.sql.types import StructType, StructField, IntegerType, StringType\n",
    "from pyspark.sql.functions import col\n",
    "\n",
    "dt_2 = [\n",
    "\n",
    "        (1,\"hari\",45,120000),\n",
    "        (2,\"ram\",35,125000),\n",
    "        (3,\"shyam\",25,130000),\n",
    "        (4,\"sita\",30,135000),\n",
    "        (5,\"radha\",20,140000),\n",
    "        (6,\"shiv\",35,145000),\n",
    "        (7,\"Om\",40,150000)\n",
    "    \n",
    "]\n",
    "\n",
    "schema = StructType([\n",
    "    StructField(\"id\", IntegerType(), True),\n",
    "    StructField(\"name\", StringType(), True),\n",
    "    StructField(\"age\", IntegerType(), True),\n",
    "    StructField(\"salary\", IntegerType(), True)  \n",
    "    ])\n",
    "bl = spark.createDataFrame(dt_2, schema)\n",
    "bl.write.mode(\"overwrite\").saveAsTable(\"tbl_sal_2\")"
   ]
  },
  {
   "cell_type": "code",
   "execution_count": 0,
   "metadata": {
    "application/vnd.databricks.v1+cell": {
     "cellMetadata": {
      "byteLimit": 2048000,
      "rowLimit": 10000
     },
     "inputWidgets": {},
     "nuid": "1349714a-096c-407a-915d-15cd09346f1d",
     "showTitle": false,
     "tableResultSettingsMap": {},
     "title": ""
    }
   },
   "outputs": [],
   "source": [
    "from pyspark.sql import SparkSession\n",
    "from pyspark.sql.types import StructType, StructField, IntegerType, StringType \n",
    "from pyspark.sql.functions import col \n",
    "from delta.tables import DeltaTable\n",
    "\n",
    "\n",
    "df = spark.table(\"tbl_sal\")\n",
    "df_tgt = DeltaTable.forName(spark, \"tbl_sal_2\")\n",
    "\n",
    "df_tgt.alias(\"tgt\").merge( df.alias(\"src\"),\n",
    "      \"tgt.id = src.id\"\n",
    ").whenNotMatchedInsertAll().execute()"
   ]
  },
  {
   "cell_type": "code",
   "execution_count": 0,
   "metadata": {
    "application/vnd.databricks.v1+cell": {
     "cellMetadata": {
      "byteLimit": 2048000,
      "rowLimit": 10000
     },
     "inputWidgets": {},
     "nuid": "cb88c3c0-c9c9-411f-bbdb-690ca546ff87",
     "showTitle": false,
     "tableResultSettingsMap": {},
     "title": ""
    }
   },
   "outputs": [
    {
     "output_type": "stream",
     "name": "stdout",
     "output_type": "stream",
     "text": [
      "+---+------+---+------+\n| id|  name|age|salary|\n+---+------+---+------+\n|  8|vishnu| 55| 30000|\n|  3| shyam| 25|130000|\n|  5| radha| 20|140000|\n|  4|  sita| 30|135000|\n|  1|  hari| 45|120000|\n|  2|   ram| 35|125000|\n+---+------+---+------+\n\n+---+------+---+------+\n| id|  name|age|salary|\n+---+------+---+------+\n|  8|vishnu| 55| 30000|\n|  3| shyam| 25|130000|\n|  5| radha| 20|140000|\n|  4|  sita| 30|135000|\n|  6|  shiv| 35|145000|\n|  1|  hari| 45|120000|\n|  2|   ram| 35|125000|\n|  7|    Om| 40|150000|\n+---+------+---+------+\n\n"
     ]
    }
   ],
   "source": [
    "\n",
    "\n",
    "spark.table(\"tbl_sal\").show()\n",
    "spark.table(\"tbl_sal_2\").show()"
   ]
  },
  {
   "cell_type": "code",
   "execution_count": 0,
   "metadata": {
    "application/vnd.databricks.v1+cell": {
     "cellMetadata": {
      "byteLimit": 2048000,
      "rowLimit": 10000
     },
     "inputWidgets": {},
     "nuid": "f0018fd1-449b-484c-a532-db9bc2fd6a59",
     "showTitle": false,
     "tableResultSettingsMap": {},
     "title": ""
    }
   },
   "outputs": [
    {
     "output_type": "stream",
     "name": "stdout",
     "output_type": "stream",
     "text": [
      "+--------+---------+-------+\n|col_name|data_type|comment|\n+--------+---------+-------+\n|id      |int      |null   |\n|name    |string   |null   |\n|age     |int      |null   |\n|salary  |int      |null   |\n+--------+---------+-------+\n\n"
     ]
    }
   ],
   "source": [
    "spark.sql(\"DESCRIBE tbl_sal\").show(truncate=False)"
   ]
  },
  {
   "cell_type": "code",
   "execution_count": 0,
   "metadata": {
    "application/vnd.databricks.v1+cell": {
     "cellMetadata": {},
     "inputWidgets": {},
     "nuid": "e492d3bf-2074-4dc5-835c-d1cd27b8a5e9",
     "showTitle": false,
     "tableResultSettingsMap": {},
     "title": ""
    }
   },
   "outputs": [],
   "source": []
  }
 ],
 "metadata": {
  "application/vnd.databricks.v1+notebook": {
   "computePreferences": null,
   "dashboards": [],
   "environmentMetadata": {
    "base_environment": "",
    "environment_version": "1"
   },
   "inputWidgetPreferences": null,
   "language": "python",
   "notebookMetadata": {
    "pythonIndentUnit": 4
   },
   "notebookName": "incrementalLoad",
   "widgets": {}
  }
 },
 "nbformat": 4,
 "nbformat_minor": 0
}