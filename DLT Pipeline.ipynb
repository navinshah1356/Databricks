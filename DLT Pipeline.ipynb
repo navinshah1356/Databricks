{
 "cells": [
  {
   "cell_type": "code",
   "execution_count": 0,
   "metadata": {
    "application/vnd.databricks.v1+cell": {
     "cellMetadata": {
      "byteLimit": 2048000,
      "rowLimit": 10000
     },
     "inputWidgets": {},
     "nuid": "f20945d7-0f87-418d-9a43-f555e53bd132",
     "showTitle": false,
     "tableResultSettingsMap": {},
     "title": ""
    }
   },
   "outputs": [],
   "source": [
    "import dlt\n",
    "from pyspark.sql.functions import col\n",
    "\n",
    "@dlt.table(\n",
    "  name=\"sales_city\",\n",
    "  comment=\"sales data by city\",\n",
    "  table_properties={\n",
    "    \"quality\": \"bronze\"\n",
    "  }\n",
    ")\n",
    "def sales_city():\n",
    "    df = spark.read.format(\"csv\").option(\"header\", True).load(\"/mnt/input/sales_data_sample.csv\")\n",
    "    return df.select(\n",
    "        col('ordernumber').alias('ord_no'),\n",
    "        col('quantityordered').alias('ord_qnty'),\n",
    "        col('sales'),\n",
    "        col('city')\n",
    "    )\n"
   ]
  },
  {
   "cell_type": "code",
   "execution_count": 0,
   "metadata": {
    "application/vnd.databricks.v1+cell": {
     "cellMetadata": {
      "byteLimit": 2048000,
      "rowLimit": 10000
     },
     "inputWidgets": {},
     "nuid": "1b4a6fa5-1aa0-4299-ac41-f247f1cf4e8b",
     "showTitle": false,
     "tableResultSettingsMap": {},
     "title": ""
    }
   },
   "outputs": [],
   "source": [
    "import dlt\n",
    "from pyspark.sql.functions import col\n",
    "\n",
    "@dlt.table(\n",
    "  name=\"sales_country\",\n",
    "  comment=\"sales data by country\",\n",
    "  table_properties={\n",
    "    \"quality\": \"bronze\"\n",
    "  }\n",
    ")\n",
    "def sales_country():\n",
    "    df = spark.read.format(\"csv\").option(\"header\", True).load(\"/mnt/input/sales_data_sample.csv\")\n",
    "    return df.select(\n",
    "        col('ordernumber').alias('ord_no'),\n",
    "        col('quantityordered').alias('ord_qnty'),\n",
    "        col('sales'),\n",
    "        col('country')\n",
    "    )"
   ]
  },
  {
   "cell_type": "code",
   "execution_count": 0,
   "metadata": {
    "application/vnd.databricks.v1+cell": {
     "cellMetadata": {
      "byteLimit": 2048000,
      "rowLimit": 10000
     },
     "inputWidgets": {},
     "nuid": "7cc4bf48-8317-4a72-8f38-627ad144d9fa",
     "showTitle": false,
     "tableResultSettingsMap": {},
     "title": ""
    }
   },
   "outputs": [],
   "source": [
    "import dlt\n",
    "from pyspark.sql.functions import col\n",
    "\n",
    "@dlt.table\n",
    "def joined_sales():\n",
    "    # Read external tables directly\n",
    "    city_df = spark.read.table(\"sam_data.sales_city\")\n",
    "    country_df = spark.read.table(\"sam_data.sales_country\")\n",
    "\n",
    "    # Rename duplicate columns to avoid conflict\n",
    "    city_df = city_df.selectExpr(\"ord_no\", \"ord_qnty as city_ord_qnty\", \"sales as city_sales\")\n",
    "    country_df = country_df.selectExpr(\"ord_no\", \"ord_qnty as country_ord_qnty\", \"sales as country_sales\")\n",
    "\n",
    "    # Perform the join\n",
    "    joined_df = city_df.join(country_df, on=\"ord_no\", how=\"inner\")\n",
    "\n",
    "    return joined_df"
   ]
  }
 ],
 "metadata": {
  "application/vnd.databricks.v1+notebook": {
   "computePreferences": null,
   "dashboards": [],
   "environmentMetadata": {
    "base_environment": "",
    "environment_version": "2"
   },
   "inputWidgetPreferences": null,
   "language": "python",
   "notebookMetadata": {
    "mostRecentlyExecutedCommandWithImplicitDF": {
     "commandId": 8165007150917115,
     "dataframes": [
      "_sqldf"
     ]
    },
    "pythonIndentUnit": 4
   },
   "notebookName": "DLT Pipeline",
   "widgets": {}
  },
  "language_info": {
   "name": "python"
  }
 },
 "nbformat": 4,
 "nbformat_minor": 0
}
