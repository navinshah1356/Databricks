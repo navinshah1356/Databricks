{
 "cells": [
  {
   "cell_type": "code",
   "execution_count": 0,
   "metadata": {
    "application/vnd.databricks.v1+cell": {
     "cellMetadata": {
      "byteLimit": 2048000,
      "rowLimit": 10000
     },
     "inputWidgets": {},
     "nuid": "c223633b-edf0-4415-b03a-7aef71398d74",
     "showTitle": false,
     "tableResultSettingsMap": {},
     "title": ""
    }
   },
   "outputs": [
    {
     "output_type": "stream",
     "name": "stdout",
     "output_type": "stream",
     "text": [
      "cntry_cnt\nsales_city\nsales_country\nsampledata\ntbl_sa\ntbl_sal\ntbl_sal_2\ntblcountrysales\n"
     ]
    }
   ],
   "source": [
    "\n",
    "from pyspark.sql import SparkSession\n",
    "from pyspark.sql.types import StructType, StructField, IntegerType, StringType\n",
    "from pyspark.sql.functions import col\n",
    "databases = [db.name for db in spark.catalog.listDatabases()]\n",
    "\n",
    "# Get tables in each database\n",
    "tables = dbutils.fs.ls(\"dbfs:/user/hive/warehouse/\")\n",
    "for table in tables:\n",
    "    print(table.name.replace(\"/\", \"\"))"
   ]
  },
  {
   "cell_type": "code",
   "execution_count": 0,
   "metadata": {
    "application/vnd.databricks.v1+cell": {
     "cellMetadata": {
      "byteLimit": 2048000,
      "rowLimit": 10000
     },
     "inputWidgets": {},
     "nuid": "d6925439-510a-4526-ad39-512aa1afc7c4",
     "showTitle": false,
     "tableResultSettingsMap": {},
     "title": ""
    }
   },
   "outputs": [
    {
     "output_type": "stream",
     "name": "stdout",
     "output_type": "stream",
     "text": [
      "+---------------+-------+\n|table_name     |size_mb|\n+---------------+-------+\n|cntry_cnt      |1134   |\n|sales_city     |56134  |\n|sales_country  |60525  |\n|sampledata     |79683  |\n|tbl_sa         |1273   |\n|tbl_sal        |7579   |\n|tbl_sal_2      |10085  |\n|tblcountrysales|2898   |\n+---------------+-------+\n\n"
     ]
    }
   ],
   "source": [
    "from pyspark.sql import Row\n",
    "import re\n",
    "\n",
    "# List all directories (tables) in Hive default warehouse path\n",
    "tables = [t for t in dbutils.fs.ls(\"dbfs:/user/hive/warehouse/\") if t.isDir()]\n",
    "\n",
    "# Build a list of (table_name, size_in_MB)\n",
    "table_info = []\n",
    "for t in tables:\n",
    "    name = t.name.replace(\"/\", \"\")\n",
    "    size = sum(f.size for f in dbutils.fs.ls(t.path))   # Size in MB\n",
    "    table_info.append(Row(table_name=name, size_mb=round(size, 2)))\n",
    "\n",
    "# Convert to DataFrame and display\n",
    "spark.createDataFrame(table_info).orderBy(\"table_name\").show(truncate=False)"
   ]
  },
  {
   "cell_type": "code",
   "execution_count": 0,
   "metadata": {
    "application/vnd.databricks.v1+cell": {
     "cellMetadata": {
      "byteLimit": 2048000,
      "rowLimit": 10000
     },
     "inputWidgets": {},
     "nuid": "5eac1c8a-281b-4358-b938-988d0fb1d5aa",
     "showTitle": false,
     "tableResultSettingsMap": {},
     "title": ""
    }
   },
   "outputs": [
    {
     "output_type": "stream",
     "name": "stdout",
     "output_type": "stream",
     "text": [
      "Total number of Hive tables (folders): 8\ncntry_cnt\nsales_city\nsales_country\nsampledata\ntbl_sa\ntbl_sal\ntbl_sal_2\ntblcountrysales\n"
     ]
    }
   ],
   "source": [
    "items = dbutils.fs.ls(\"dbfs:/user/hive/warehouse/\")\n",
    "\n",
    "# Count only folders (each represents a Hive table)\n",
    "table_count = len([t for t in items if t.isDir()])\n",
    "\n",
    "print(f\"Total number of Hive tables (folders): {table_count}\")\n",
    "\n",
    "for item in items:\n",
    "    print(item.name.replace(\"/\", \"\"))\n"
   ]
  },
  {
   "cell_type": "code",
   "execution_count": 0,
   "metadata": {
    "application/vnd.databricks.v1+cell": {
     "cellMetadata": {},
     "inputWidgets": {},
     "nuid": "7603afa7-7d00-4817-81e6-9cf5dc41df63",
     "showTitle": false,
     "tableResultSettingsMap": {},
     "title": ""
    }
   },
   "outputs": [],
   "source": []
  }
 ],
 "metadata": {
  "application/vnd.databricks.v1+notebook": {
   "computePreferences": null,
   "dashboards": [],
   "environmentMetadata": {
    "base_environment": "",
    "environment_version": "1"
   },
   "inputWidgetPreferences": null,
   "language": "python",
   "notebookMetadata": {
    "pythonIndentUnit": 4
   },
   "notebookName": "dbutils-demo",
   "widgets": {}
  }
 },
 "nbformat": 4,
 "nbformat_minor": 0
}