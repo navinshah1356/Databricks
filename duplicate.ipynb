{
 "cells": [
  {
   "cell_type": "markdown",
   "metadata": {
    "application/vnd.databricks.v1+cell": {
     "cellMetadata": {},
     "inputWidgets": {},
     "nuid": "d2076d80-c341-44f4-83f0-1422f81bde4e",
     "showTitle": false,
     "tableResultSettingsMap": {},
     "title": ""
    }
   },
   "source": [
    "**third rank**"
   ]
  },
  {
   "cell_type": "code",
   "execution_count": 0,
   "metadata": {
    "application/vnd.databricks.v1+cell": {
     "cellMetadata": {
      "byteLimit": 2048000,
      "rowLimit": 10000
     },
     "inputWidgets": {},
     "nuid": "682f6cf7-c270-4295-bdc6-d874c42b2985",
     "showTitle": false,
     "tableResultSettingsMap": {},
     "title": ""
    }
   },
   "outputs": [
    {
     "output_type": "stream",
     "name": "stdout",
     "output_type": "stream",
     "text": [
      "+-------+------------------+----+\n|country|         tot_sales|rank|\n+-------+------------------+----+\n| France|1110916.5199999993|   3|\n+-------+------------------+----+\n\n"
     ]
    }
   ],
   "source": [
    "from pyspark.sql import SparkSession\n",
    "from pyspark.sql.functions import *\n",
    "from pyspark.sql.types import *\n",
    "from pyspark.sql.window import Window\n",
    "\n",
    "spark = SparkSession.builder.appName(\"ThirdHighestCountry\").getOrCreate()\n",
    "df = spark.read.format(\"delta\").load(\"dbfs:/user/hive/warehouse/sales_country\")\n",
    "agg_df = df.groupBy(\"country\").agg(sum(\"sales\").alias(\"tot_sales\"))\n",
    "wnd = Window.orderBy(col(\"tot_sales\").desc())\n",
    "ranked_df = agg_df.withColumn(\"rank\", dense_rank().over(wnd))\n",
    "result = ranked_df.filter(col(\"rank\") == 3)\n",
    "result.show()\n"
   ]
  },
  {
   "cell_type": "markdown",
   "metadata": {
    "application/vnd.databricks.v1+cell": {
     "cellMetadata": {},
     "inputWidgets": {},
     "nuid": "735a9c2f-0265-497b-ae1c-90ac1706cb4d",
     "showTitle": false,
     "tableResultSettingsMap": {},
     "title": ""
    }
   },
   "source": [
    "**duplicate count**"
   ]
  },
  {
   "cell_type": "code",
   "execution_count": 0,
   "metadata": {
    "application/vnd.databricks.v1+cell": {
     "cellMetadata": {
      "byteLimit": 2048000,
      "rowLimit": 10000
     },
     "inputWidgets": {},
     "nuid": "949be5b7-8f87-4428-abd9-eb85a2fa9f7c",
     "showTitle": false,
     "tableResultSettingsMap": {},
     "title": ""
    }
   },
   "outputs": [
    {
     "output_type": "stream",
     "name": "stdout",
     "output_type": "stream",
     "text": [
      "Number of rows with rank > 1 per country: 2804\n"
     ]
    }
   ],
   "source": [
    "from pyspark.sql import SparkSession\n",
    "from pyspark.sql.functions import *\n",
    "from pyspark.sql.types import *\n",
    "from pyspark.sql.window import Window\n",
    "\n",
    "spark = SparkSession.builder.appName(\"ThirdHighestCountry\").getOrCreate()\n",
    "df = spark.read.format(\"delta\").load(\"dbfs:/user/hive/warehouse/sales_country\")\n",
    "\n",
    "wnd = Window.partitionBy(\"country\").orderBy(\"sales\")\n",
    "df = df.withColumn(\"rnk\",row_number().over(wnd))\n",
    "res = df.filter(col(\"rnk\") > 1).count()\n",
    "print(f\"Number of rows with rank > 1 per country: {res}\")\n"
   ]
  },
  {
   "cell_type": "code",
   "execution_count": 0,
   "metadata": {
    "application/vnd.databricks.v1+cell": {
     "cellMetadata": {},
     "inputWidgets": {},
     "nuid": "11f490b5-7669-4394-b4a3-057778acc423",
     "showTitle": false,
     "tableResultSettingsMap": {},
     "title": ""
    }
   },
   "outputs": [],
   "source": []
  }
 ],
 "metadata": {
  "application/vnd.databricks.v1+notebook": {
   "computePreferences": null,
   "dashboards": [],
   "environmentMetadata": {
    "base_environment": "",
    "environment_version": "1"
   },
   "inputWidgetPreferences": null,
   "language": "python",
   "notebookMetadata": {
    "pythonIndentUnit": 4
   },
   "notebookName": "duplicate",
   "widgets": {}
  }
 },
 "nbformat": 4,
 "nbformat_minor": 0
}