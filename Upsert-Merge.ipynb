{
 "cells": [
  {
   "cell_type": "code",
   "execution_count": 0,
   "metadata": {
    "application/vnd.databricks.v1+cell": {
     "cellMetadata": {
      "byteLimit": 2048000,
      "rowLimit": 10000
     },
     "inputWidgets": {},
     "nuid": "df769d25-4b2c-405a-a542-3f6b9b0aec68",
     "showTitle": false,
     "tableResultSettingsMap": {},
     "title": ""
    }
   },
   "outputs": [],
   "source": [
    "from pyspark.sql import SparkSession\n",
    "from pyspark.sql.types import StructType, StructField, IntegerType, StringType\n",
    "from pyspark.sql.functions import col\n",
    "\n",
    "dt_1 = [\n",
    "\n",
    "        (1,\"hari\",45,120000),\n",
    "        (2,\"ram\",35,125000),\n",
    "        (3,\"shyam\",25,130000),\n",
    "        (4,\"sita\",30,135000),\n",
    "        (5,\"radha\",20,140000)\n",
    "    \n",
    "]\n",
    "\n",
    "schema = StructType([\n",
    "    StructField(\"id\", IntegerType(), True),\n",
    "    StructField(\"name\", StringType(), True),\n",
    "    StructField(\"age\", IntegerType(), True),\n",
    "    StructField(\"salary\", IntegerType(), True)  \n",
    "    ])\n",
    "bl = spark.createDataFrame(dt_1, schema)\n",
    "bl.write.mode(\"overwrite\").saveAsTable(\"tbl_sal\")\n"
   ]
  },
  {
   "cell_type": "code",
   "execution_count": 0,
   "metadata": {
    "application/vnd.databricks.v1+cell": {
     "cellMetadata": {
      "byteLimit": 2048000,
      "rowLimit": 10000
     },
     "inputWidgets": {},
     "nuid": "788fcc12-f73f-4840-b458-759c5d4afacf",
     "showTitle": false,
     "tableResultSettingsMap": {},
     "title": ""
    }
   },
   "outputs": [],
   "source": [
    "from pyspark.sql import SparkSession\n",
    "from pyspark.sql.types import StructType, StructField, IntegerType, StringType\n",
    "from pyspark.sql.functions import col\n",
    "\n",
    "dt_2 = [\n",
    "\n",
    "        (1,\"hari\",45,120000),\n",
    "        (2,\"ram\",35,125000),\n",
    "        (3,\"shyam\",25,130000),\n",
    "        (4,\"sita\",30,135000),\n",
    "        (5,\"radha\",20,140000),\n",
    "        (6,\"shiv\",35,145000),\n",
    "        (7,\"Om\",40,150000)\n",
    "    \n",
    "]\n",
    "\n",
    "schema = StructType([\n",
    "    StructField(\"id\", IntegerType(), True),\n",
    "    StructField(\"name\", StringType(), True),\n",
    "    StructField(\"age\", IntegerType(), True),\n",
    "    StructField(\"salary\", IntegerType(), True)  \n",
    "    ])\n",
    "bl = spark.createDataFrame(dt_2, schema)\n",
    "bl.write.mode(\"overwrite\").saveAsTable(\"tbl_sal_2\")"
   ]
  },
  {
   "cell_type": "code",
   "execution_count": 0,
   "metadata": {
    "application/vnd.databricks.v1+cell": {
     "cellMetadata": {
      "byteLimit": 2048000,
      "rowLimit": 10000
     },
     "inputWidgets": {},
     "nuid": "11797014-16e8-402a-a679-10d980ef19fc",
     "showTitle": false,
     "tableResultSettingsMap": {},
     "title": ""
    }
   },
   "outputs": [],
   "source": [
    "from pyspark.sql import SparkSession\n",
    "from pyspark.sql.types import StructType, StructField, IntegerType, StringType\n",
    "from pyspark.sql.functions import col\n",
    "\n",
    "spark.sql(\"\"\"\n",
    "MERGE INTO tbl_sal t\n",
    "USING tbl_sal_2 s\n",
    "ON t.id = s.id\n",
    "WHEN NOT MATCHED THEN\n",
    "  INSERT *\n",
    "\"\"\")\n",
    "spark.table(\"tbl_sal\").orderBy(col(\"id\").asc()).show() \n"
   ]
  }
 ],
 "metadata": {
  "application/vnd.databricks.v1+notebook": {
   "computePreferences": null,
   "dashboards": [],
   "environmentMetadata": {
    "base_environment": "",
    "environment_version": "2"
   },
   "inputWidgetPreferences": null,
   "language": "python",
   "notebookMetadata": {
    "pythonIndentUnit": 4
   },
   "notebookName": "Upsert-Merge",
   "widgets": {}
  },
  "language_info": {
   "name": "python"
  }
 },
 "nbformat": 4,
 "nbformat_minor": 0
}
